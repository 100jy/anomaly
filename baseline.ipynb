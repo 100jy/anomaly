{
  "nbformat": 4,
  "nbformat_minor": 0,
  "metadata": {
    "colab": {
      "name": "baseline.ipynb",
      "provenance": [],
      "collapsed_sections": [
        "EB-nXdJgitNk",
        "sQqPmgg0gWTC"
      ],
      "authorship_tag": "ABX9TyPewE//dHTkwhYpS/Lh9AL2",
      "include_colab_link": true
    },
    "kernelspec": {
      "name": "python3",
      "display_name": "Python 3"
    },
    "language_info": {
      "name": "python"
    }
  },
  "cells": [
    {
      "cell_type": "markdown",
      "metadata": {
        "id": "view-in-github",
        "colab_type": "text"
      },
      "source": [
        "<a href=\"https://colab.research.google.com/github/100jy/anomaly/blob/main/baseline.ipynb\" target=\"_parent\"><img src=\"https://colab.research.google.com/assets/colab-badge.svg\" alt=\"Open In Colab\"/></a>"
      ]
    },
    {
      "cell_type": "code",
      "metadata": {
        "colab": {
          "base_uri": "https://localhost:8080/"
        },
        "id": "f2zs0qlBB_Dz",
        "outputId": "a906bc9a-1110-42d3-82d5-6176e323eaa4"
      },
      "source": [
        "from google.colab import drive\n",
        "import os\n",
        "drive.mount('/content/drive')\n",
        "os.chdir('/content/drive/MyDrive')"
      ],
      "execution_count": 1,
      "outputs": [
        {
          "output_type": "stream",
          "text": [
            "Drive already mounted at /content/drive; to attempt to forcibly remount, call drive.mount(\"/content/drive\", force_remount=True).\n"
          ],
          "name": "stdout"
        }
      ]
    },
    {
      "cell_type": "markdown",
      "metadata": {
        "id": "EB-nXdJgitNk"
      },
      "source": [
        "# module 임포트"
      ]
    },
    {
      "cell_type": "code",
      "metadata": {
        "id": "Yyx0Qsnrir-t"
      },
      "source": [
        "import numpy as np\n",
        "import pandas as pd\n",
        "import sklearn\n",
        "from sklearn.svm import OneClassSVM\n",
        "from sklearn.ensemble import IsolationForest\n",
        "from sklearn.model_selection import GridSearchCV \n",
        "from sklearn.model_selection import train_test_split\n",
        "import matplotlib.pyplot as plt \n",
        "import seaborn as sns\n",
        "import math"
      ],
      "execution_count": 2,
      "outputs": []
    },
    {
      "cell_type": "markdown",
      "metadata": {
        "id": "A5Lo30MIG7op"
      },
      "source": [
        "# data\n"
      ]
    },
    {
      "cell_type": "code",
      "metadata": {
        "id": "f-i4NbQ_G-H0"
      },
      "source": [
        "# simulated data\n",
        "# label이 있는 상황을 가정\n",
        "ground =  ([[x for x in range(45)]] * 800) \n",
        "normal = ground + np.random.rand(800, 45)\n",
        "anomaly =  ground[:200] + np.random.uniform(0, 2, size=(200, 45))\n",
        "\n",
        "x_tarin, x_val, _, _ = train_test_split(normal, normal, test_size=0.2)\n",
        "\n",
        "# 실제 데이터 사용시\n",
        "# 시간 단위로 분할"
      ],
      "execution_count": 3,
      "outputs": []
    },
    {
      "cell_type": "markdown",
      "metadata": {
        "id": "sQqPmgg0gWTC"
      },
      "source": [
        "## card fraud"
      ]
    },
    {
      "cell_type": "code",
      "metadata": {
        "id": "p5eb54x5mzUi"
      },
      "source": [
        "# card fraud data\n",
        "train_df=pd.read_csv('creditcard.csv')"
      ],
      "execution_count": 4,
      "outputs": []
    },
    {
      "cell_type": "code",
      "metadata": {
        "id": "3J222dz1WoOC"
      },
      "source": [
        "# set split\n",
        "train_df['Amount'] = (train_df['Amount'] - min(train_df['Amount'])) / (train_df['Amount'].max() - train_df['Amount'].min())\n",
        "\n",
        "normal = train_df[train_df['Class'] == 0]\n",
        "sample = np.random.choice(normal.index, 10000)\n",
        "sam_idx = [x in sample for x in normal.index]\n",
        "normal = normal[sam_idx]\n",
        "anomaly = train_df[train_df['Class'] == 1]\n",
        "\n",
        "cutpoint = int(len(normal)*(8/10))\n",
        "\n",
        "x_tarin = normal.iloc[:cutpoint,1:-1].values\n",
        "x_val = normal.iloc[cutpoint:,1:-1].values\n",
        "anomaly = anomaly.iloc[:,1:-1].values"
      ],
      "execution_count": 120,
      "outputs": []
    },
    {
      "cell_type": "markdown",
      "metadata": {
        "id": "ErgAUcFpjkro"
      },
      "source": [
        "# OC-SVD"
      ]
    },
    {
      "cell_type": "code",
      "metadata": {
        "id": "IOapk5JgcNSs"
      },
      "source": [
        "# grid search by F1\n",
        "from sklearn.metrics import make_scorer\n",
        "from sklearn.metrics import f1_score\n",
        "\n",
        "score = make_scorer(f1_score, greater_is_better=True)\n",
        "\n",
        "# SVM \n",
        "# kernel{‘linear’, ‘poly’, ‘rbf’, ‘sigmoid’, ‘precomputed’}\n",
        "# degree : Degree of the polynomial kernel function\n",
        "# eta : An upper bound on the fraction of training errors and a lower bound of the fraction of support vectors.\n",
        "parameters = {'kernel':['linear', 'poly', 'rbf', 'sigmoid'], 'degree':[2,3,4], 'nu' : [0.01,0.05, 0.1, 0.3, 0.5, 0.7, 0.9]}\n",
        "\n",
        "oc_svm = OneClassSVM()\n",
        "clf = GridSearchCV(oc_svm, parameters, scoring=score)\n",
        "\n",
        "X = np.concatenate([x_val, anomaly])\n",
        "Y = np.concatenate([np.ones(len(x_val)), np.ones(len(anomaly)) * -1])\n",
        "clf.fit(X, Y)"
      ],
      "execution_count": null,
      "outputs": []
    },
    {
      "cell_type": "code",
      "metadata": {
        "colab": {
          "base_uri": "https://localhost:8080/"
        },
        "id": "6H24G-sJlZMf",
        "outputId": "f93640d9-3c79-4dce-c7ea-4688a9905b04"
      },
      "source": [
        "print(clf.best_score_)\n",
        "print(clf.best_params_)"
      ],
      "execution_count": 109,
      "outputs": [
        {
          "output_type": "stream",
          "text": [
            "0.7952933641496905\n",
            "{'degree': 2, 'kernel': 'rbf', 'nu': 0.01}\n"
          ],
          "name": "stdout"
        }
      ]
    },
    {
      "cell_type": "code",
      "metadata": {
        "colab": {
          "base_uri": "https://localhost:8080/"
        },
        "id": "O1qScpsyjtoY",
        "outputId": "15a9b614-1af4-4a3c-9d2c-698a617f9109"
      },
      "source": [
        "oc_svm = OneClassSVM(**clf.best_params_)\n",
        "oc_svm.fit(x_tarin)"
      ],
      "execution_count": 121,
      "outputs": [
        {
          "output_type": "execute_result",
          "data": {
            "text/plain": [
              "OneClassSVM(cache_size=200, coef0=0.0, degree=2, gamma='scale', kernel='rbf',\n",
              "            max_iter=-1, nu=0.01, shrinking=True, tol=0.001, verbose=False)"
            ]
          },
          "metadata": {
            "tags": []
          },
          "execution_count": 121
        }
      ]
    },
    {
      "cell_type": "markdown",
      "metadata": {
        "id": "0Yu7bhRofhaB"
      },
      "source": [
        "## evaluation"
      ]
    },
    {
      "cell_type": "code",
      "metadata": {
        "colab": {
          "base_uri": "https://localhost:8080/",
          "height": 265
        },
        "id": "35Y43cv6fdiu",
        "outputId": "fd4cc5a8-3e25-4080-97f3-0931d65ce6b3"
      },
      "source": [
        "# [0,inf] -> (0,1)\n",
        "def activation(x):\n",
        "  return (2/math.pi) * np.arctan(x)\n",
        "\n",
        "normal_score = (oc_svm.score_samples(x_val))\n",
        "val_score = (oc_svm.score_samples(anomaly))\n",
        "\n",
        "plt.figure()\n",
        "sns.kdeplot(normal_score, fill=True)\n",
        "sns.kdeplot(val_score, fill=True)\n",
        "\n",
        "plt.legend(['nor','ano'])\n",
        "plt.show()"
      ],
      "execution_count": 122,
      "outputs": [
        {
          "output_type": "display_data",
          "data": {
            "image/png": "[encoded data removed]",
            "text/plain": [
              "<Figure size 432x288 with 1 Axes>"
            ]
          },
          "metadata": {
            "tags": [],
            "needs_background": "light"
          }
        }
      ]
    },
    {
      "cell_type": "code",
      "metadata": {
        "colab": {
          "base_uri": "https://localhost:8080/"
        },
        "id": "x70qioJhZStb",
        "outputId": "2f7a2212-37a3-42db-e26d-452ba94118af"
      },
      "source": [
        "precision = sum(oc_svm.predict(anomaly) == -1)/ (sum(oc_svm.predict(anomaly) == -1) + sum(oc_svm.predict(x_val) == -1))\n",
        "recall = sum(oc_svm.predict(anomaly) == -1)/ len(anomaly)\n",
        "#F1 Score = 2*(Recall * Precision) / (Recall + Precision)\n",
        "F1Score = 2*(recall* precision) / (recall + precision)\n",
        "print('precision : {:.5f}, recall : {:.5f}'.format(precision, recall))\n",
        "print('F1 score : {:.5f}'.format(F1Score))"
      ],
      "execution_count": 123,
      "outputs": [
        {
          "output_type": "stream",
          "text": [
            "precision : 0.73805, recall : 0.84756\n",
            "F1 score : 0.78903\n"
          ],
          "name": "stdout"
        }
      ]
    },
    {
      "cell_type": "markdown",
      "metadata": {
        "id": "Ip7qt4sFgOMA"
      },
      "source": [
        "# iforest"
      ]
    },
    {
      "cell_type": "code",
      "metadata": {
        "id": "V9tbyyjcHerO"
      },
      "source": [
        "# isolation forest\n"
      ],
      "execution_count": null,
      "outputs": []
    }
  ]
}